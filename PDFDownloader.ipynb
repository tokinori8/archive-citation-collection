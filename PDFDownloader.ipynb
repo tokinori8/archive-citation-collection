{
 "cells": [
  {
   "cell_type": "code",
   "execution_count": null,
   "id": "9bb9281e-f669-459f-bf79-fee649e541df",
   "metadata": {},
   "outputs": [],
   "source": [
    "import os\n",
    "import pandas as pd\n",
    "import urllib\n",
    "import logging\n",
    "\n",
    "url_file = \"./data/pdf-url.tsv\"\n",
    "out_dir = \"./data/pdfs/\"\n",
    "\n",
    "if not os.path.exists(\"./data/pdfs\"):\n",
    "    os.mkdir(\"./data/pdfs\")\n",
    "\n",
    "tbl = pd.read_table(url_file, encoding=\"utf-8\")\n",
    "\n",
    "logger = logging.getLogger(\"URLLogger\")\n",
    "logger.setLevel(20)\n",
    "\n",
    "fh = logging.FileHandler(\"download.log\")\n",
    "logger.addHandler(fh)\n",
    "\n",
    "for ind, row in tbl.iterrows():\n",
    "    doc_id = row[\"Doc_ID\"]\n",
    "    url = row[\"URL\"]\n",
    "    \n",
    "    try:\n",
    "        pdf_file = doc_id + \".pdf\"\n",
    "        data = urllib.request.urlopen(url).read()\n",
    "        \n",
    "        with open(out_dir + pdf_file, mode = \"wb\") as f:\n",
    "            f.write(data)\n",
    "              \n",
    "        logger.info(pdf_file + \",\" + url)\n",
    "        \n",
    "    except urllib.error.HTTPError as err:\n",
    "        print (err)\n",
    "        \n",
    "    except urllib.error.URLError as err:\n",
    "        print(err.reason)"
   ]
  }
 ],
 "metadata": {
  "kernelspec": {
   "display_name": "Python 3 (ipykernel)",
   "language": "python",
   "name": "python3"
  },
  "language_info": {
   "codemirror_mode": {
    "name": "ipython",
    "version": 3
   },
   "file_extension": ".py",
   "mimetype": "text/x-python",
   "name": "python",
   "nbconvert_exporter": "python",
   "pygments_lexer": "ipython3",
   "version": "3.10.9"
  }
 },
 "nbformat": 4,
 "nbformat_minor": 5
}
